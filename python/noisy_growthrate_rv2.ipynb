{
 "cells": [
  {
   "cell_type": "markdown",
   "metadata": {},
   "source": [
    "# Goal"
   ]
  },
  {
   "cell_type": "markdown",
   "metadata": {},
   "source": [
    "This code attempts to recreate the results in Alex Robel's (2019) paper on instability and probability skews using his simple stochastic ice-sheet model. The original code is found here: https://github.com/aarobel/StochasticMISI/blob/master/Noisy_GrowthRate_manuscript_rv2.m"
   ]
  },
  {
   "cell_type": "markdown",
   "metadata": {},
   "source": [
    "Some parameters and names:\n",
    "    1. xg == grounding line position\n",
    "    2. omega == a glaciological parameter? gamma in Robel et al. (2019)? Could be omega in Robel et a. (2018)\n",
    "    3. h == spatially averaged glacier thickness"
   ]
  },
  {
   "cell_type": "code",
   "execution_count": 1,
   "metadata": {},
   "outputs": [],
   "source": [
    "# setup\n",
    "import numpy as np\n",
    "import matplotlib.pyplot as plt\n",
    "from datetime import datetime\n",
    "\n",
    "# set the default grid style\n",
    "plt.rcParams['grid.color'] = 'k'\n",
    "plt.rcParams['grid.linestyle'] = ':'\n",
    "plt.rcParams['grid.linewidth'] = 0.5"
   ]
  },
  {
   "cell_type": "code",
   "execution_count": 2,
   "metadata": {},
   "outputs": [],
   "source": [
    "# for reproducability, fix the random seed\n",
    "np.random.seed(1)"
   ]
  },
  {
   "cell_type": "code",
   "execution_count": 3,
   "metadata": {},
   "outputs": [],
   "source": [
    "# choose whether the runs will be done from scratch (ld_prev=0), or loaded from saved files (ld_prev=1)\n",
    "ld_prev=1"
   ]
  },
  {
   "cell_type": "markdown",
   "metadata": {},
   "source": [
    "# Define the Model Parameters"
   ]
  },
  {
   "cell_type": "code",
   "execution_count": 4,
   "metadata": {},
   "outputs": [],
   "source": [
    "# define the number of ensemble members in the stochastic model\n",
    "n_ensemble = int(1e4)\n",
    "n_ens_plots = 100\n",
    "nens_ss = np.arange(1,n_ensemble,np.floor(n_ensemble/n_ens_plots),dtype='int64')-1"
   ]
  },
  {
   "cell_type": "code",
   "execution_count": 5,
   "metadata": {},
   "outputs": [],
   "source": [
    "# define a dictionary of parameters for the ice-sheet model, and then fill it\n",
    "parameters = {\n",
    "    \n",
    "# Resolution of model\n",
    "    'grid_n_nodes': 1000, # horizontal resolution\n",
    "    'grid_gz_nodes': 203, # horizontal resolution in grounding zone\n",
    "    \n",
    "# Timing for model\n",
    "    'year': 3600*24*365,} # length of a year [s]\n",
    "parameters['nsteps'] = 1000\n",
    "parameters['tfinal'] = parameters['nsteps']*parameters['year'] # total time of integration [s]\n",
    "\n",
    "# Accumulation\n",
    "parameters['accumrate'] = 0.35/parameters['year'] # accumulation rate [m/yr??]\n",
    "parameters['accum_mean'] = 0.35/parameters['year']\n",
    "parameters['accum_std'] = 0.3/parameters['year']\n",
    "\n",
    "# Butressing\n",
    "parameters['buttress'] = 0.4\n",
    "parameters['buttress_mean'] = 0.4\n",
    "parameters['buttress_std'] = 0\n",
    "\n",
    "# Basal friction coefficient (Schoof 2007)\n",
    "parameters['C_schoof'] = 7.624e6\n",
    "parameters['C_mean'] = 7.624e6\n",
    "parameters['C_std'] = 0\n",
    "parameters['m_schoof'] = float(1/3)\n",
    "\n",
    "# Bed characteristics\n",
    "parameters['icedivide'] = 0\n",
    "parameters['bedslope'] = -2e-3 # bed slope/depth [POSITIVE OR NEGATIVE?]\n",
    "parameters['sill_min'] = 550e3\n",
    "parameters['sill_max'] = 750e3\n",
    "parameters['sill_slope'] = 2e-3 # sill slope\n",
    "\n",
    "# Bed trigonometry\n",
    "parameters['sin_amp'] = 0\n",
    "parameters['sin_length'] = 20e3\n",
    "\n",
    "# Grid parameters\n",
    "parameters['n_elements'] = parameters['grid_n_nodes']-1 # number of finite elements, becomes length of h and N\n",
    "\n",
    "# Glen's Law parameters\n",
    "parameters['B_Glen'] = (4.227e-25**(-1/3))*np.ones((parameters['n_elements'],1),dtype='float64')\n",
    "parameters['n_Glen'] = 3\n",
    "\n",
    "# Physical parameters\n",
    "parameters['rho'] = 917 # ice density [kg/m3]\n",
    "parameters['rho_w'] = 1028 # ice density [kg/m3]\n",
    "parameters['g'] = 9.81 # gravitational acceleration [m/s2]"
   ]
  },
  {
   "cell_type": "markdown",
   "metadata": {},
   "source": [
    "# Run the Model to Equilibrium"
   ]
  },
  {
   "cell_type": "markdown",
   "metadata": {},
   "source": [
    "### Setup"
   ]
  },
  {
   "cell_type": "code",
   "execution_count": 6,
   "metadata": {},
   "outputs": [],
   "source": [
    "# grab the parameters we need for the equilibrium run\n",
    "rho_i = parameters['rho']\n",
    "rho_w = parameters['rho_w']\n",
    "g = parameters['g']\n",
    "n = parameters['n_Glen']\n",
    "m = parameters['m_schoof']\n",
    "\n",
    "year = parameters['year']\n",
    "accum = parameters['accumrate']\n",
    "\n",
    "A_glen = parameters['B_Glen'][0]**(-3)\n",
    "C = parameters['C_schoof']\n",
    "\n",
    "theta0 = 1 - parameters['buttress']\n",
    "omega = ((A_glen*(rho_i*g)**(n+1) * (1-(rho_i/rho_w))**n / (4**n * C))**(1/(m+1))) * theta0**(n/(m+1))\n",
    "\n",
    "beta = (m+n+3)/(m+1)\n",
    "lamda = rho_w/rho_i\n",
    "\n",
    "gz_frac = 1\n",
    "b0_orig = parameters['icedivide']"
   ]
  },
  {
   "cell_type": "code",
   "execution_count": 7,
   "metadata": {},
   "outputs": [],
   "source": [
    "# get the timesteps for this run\n",
    "tf = parameters['tfinal']\n",
    "nt = parameters['nsteps']\n",
    "dt = tf/nt"
   ]
  },
  {
   "cell_type": "markdown",
   "metadata": {},
   "source": [
    "### Define the \"Base\" Module"
   ]
  },
  {
   "cell_type": "code",
   "execution_count": 8,
   "metadata": {},
   "outputs": [],
   "source": [
    "def Base(x,parameters):\n",
    "\n",
    "    # elevation of base below sea level; needs to be consistent with that used\n",
    "    # in evolution problem for h\n",
    "    #\n",
    "    # note that \"x\" is the grounding line location\n",
    "\n",
    "    import numpy as np\n",
    "    fout=np.nan\n",
    "\n",
    "#     b_icedivide = parameters['icedivide']                 # bed elevation at ice divide\n",
    "#     slope = parameters['bedslope']                        # slope of bed\n",
    "#     sill_min = parameters['sill_min']\n",
    "#     sill_max = parameters['sill_max']\n",
    "#     slope_sill = parameters['sill_slope']\n",
    "\n",
    "#     fout = b_icedivide + (slope*x)\n",
    "\n",
    "#     if (x<sill_min):\n",
    "#         fout = b_icedivide + (slope*x)\n",
    "#     elif ((x >= sill_min) and (x <= sill_max)):\n",
    "#         fout = b_icedivide + (slope*sill_min) + (slope_sill*(x-sill_min))\n",
    "#     elif (x>sill_max):\n",
    "#         fout = b_icedivide + (slope*sill_min) + (slope_sill*(sill_max-sill_min)) + (slope*(x))\n",
    "\n",
    "    fout = (729 - (2184.8*(x/750e3)**2) + (1031.72*(x/750e3)**4) -(151.72*(x/750e3)**6))\n",
    "\n",
    "    # go to the above program level\n",
    "    return(fout)"
   ]
  },
  {
   "cell_type": "code",
   "execution_count": 9,
   "metadata": {},
   "outputs": [],
   "source": [
    "def Base_Updated(x,parameters):\n",
    "\n",
    "    # elevation of base below sea level; needs to be consistent with that used\n",
    "    # in evolution problem for h\n",
    "    #\n",
    "    # note that \"x\" is the grounding line location\n",
    "\n",
    "    import numpy as np\n",
    "    fout=np.nan\n",
    "\n",
    "    b_icedivide = parameters['icedivide']                 # bed elevation at ice divide\n",
    "    slope = parameters['bedslope']                        # slope of bed\n",
    "    sill_min = parameters['sill_min']\n",
    "    sill_max = parameters['sill_max']\n",
    "    slope_sill = parameters['sill_slope']\n",
    "\n",
    "    fout = b_icedivide + (slope*x)\n",
    "\n",
    "    if (x<sill_min):\n",
    "        fout = b_icedivide + (slope*x)\n",
    "    elif ((x >= sill_min) and (x <= sill_max)):\n",
    "        fout = b_icedivide + (slope*sill_min) + (slope_sill*(x-sill_min))\n",
    "    elif (x>sill_max):\n",
    "        fout = b_icedivide + (slope*sill_min) + (slope_sill*(sill_max-sill_min)) + (slope*(x))\n",
    "\n",
    "#     fout = (729 - (2184.8*(x/750e3)**2) + (1031.72*(x/750e3)**4) -(151.72*(x/750e3)**6))\n",
    "\n",
    "    #print(fout)\n",
    "\n",
    "    # go to the above program level\n",
    "    return(fout)"
   ]
  },
  {
   "cell_type": "code",
   "execution_count": 10,
   "metadata": {},
   "outputs": [],
   "source": [
    "def Base_New(x,parameters):\n",
    "    \n",
    "    # elevation of base below sea level; needs to be consistent with that used\n",
    "    # in evolution problem for h\n",
    "\n",
    "    import numpy as np\n",
    "    import math\n",
    "    fout=np.nan\n",
    "\n",
    "    sill_length = parameters['sill_max']-parameters['sill_min']\n",
    "\n",
    "    fout = parameters['icedivide'] + parameters['bedslope']*x\n",
    "\n",
    "    if ((x>parameters['sill_min']) and (x<parameters['sill_max'])):\n",
    "        fout = parameters['icedivide'] \\\n",
    "            + parameters['bedslope']*parameters['sill_min'] \\\n",
    "            + parameters['sill_slope']*(x-parameters['sill_min'])\n",
    "            \n",
    "    elif (x>=parameters['sill_max']):\n",
    "            fout = parameters['icedivide'] \\\n",
    "            + parameters['bedslope']*parameters['sill_min'] \\\n",
    "            + parameters['sill_slope']*sill_length \\\n",
    "            + parameters['bedslope']*(x-parameters['sill_max'])\n",
    "        \n",
    "    if ((x>parameters['sill_min']) and (x<parameters['sill_max'])):\n",
    "        fout=fout + parameters['sin_amp']*math.sin(2*math.pi*(x-parameters['sill_min'])/parameters['sin_length'])\n",
    "\n",
    "    # go to the above program level\n",
    "    return(fout)"
   ]
  },
  {
   "cell_type": "markdown",
   "metadata": {},
   "source": [
    "### Run the Model"
   ]
  },
  {
   "cell_type": "code",
   "execution_count": 11,
   "metadata": {},
   "outputs": [],
   "source": [
    "# define the number of iterations to reach equilibrium\n",
    "nt_eq = int(5e4) # 50kyr\n",
    "# define arrays for the model\n",
    "h_eq = np.empty((nt_eq,1),dtype='float64')  # Spatially averaged glacier thickness\n",
    "xg_eq = np.empty((nt_eq,1),dtype='float64') # Grounding line position"
   ]
  },
  {
   "cell_type": "code",
   "execution_count": 12,
   "metadata": {},
   "outputs": [],
   "source": [
    "# define the initial condtions of the model\n",
    "h = 4000 # initial guess of spatially averaged glacier thickness\n",
    "xg = np.ones((1,1),dtype='float64')*1000e3 # initial guess of grounding line position\n",
    "\n",
    "# loop and run the model\n",
    "for t in range(nt_eq):\n",
    "    \n",
    "    # store the model values\n",
    "    h_eq[t] = h\n",
    "    xg_eq[t]= xg\n",
    "    \n",
    "    b = Base_New(xg,parameters) # parameters not used in this code right now\n",
    "    \n",
    "    hg = -(rho_w/rho_i)*b   # grounding zone thickness\n",
    "    Q = (rho_i*g/(C*gz_frac*xg))**n * (h**(2*n + 1)) # ice advected through the interior (ice-flux)\n",
    "    \n",
    "    Q_g = omega*(hg**beta) # ice-flux through the grounding line\n",
    "    \n",
    "    # calculate the change in model values\n",
    "    dh_dt = accum - (Q/xg) - (h/(xg*hg))*(Q-Q_g) # Evolution of glacier thickness, equation 8 in Robel et al. (2018)\n",
    "    dxg_dt = (Q-Q_g)/hg # Grounding line flux, equation 7 in Robel et al. (2018)\n",
    "    \n",
    "    # update the model values\n",
    "    h = h + dh_dt*4*year\n",
    "    xg = xg + dxg_dt*4*year"
   ]
  },
  {
   "cell_type": "markdown",
   "metadata": {},
   "source": [
    "### Show results"
   ]
  },
  {
   "cell_type": "code",
   "execution_count": 13,
   "metadata": {},
   "outputs": [
    {
     "data": {
      "image/png": "[encoded data removed]",
      "text/plain": [
       "<Figure size 1080x432 with 2 Axes>"
      ]
     },
     "metadata": {},
     "output_type": "display_data"
    }
   ],
   "source": [
    "plt.figure(figsize=(15,6))\n",
    "plt.subplot(1,2,1)\n",
    "plt.plot(np.arange(nt_eq),xg_eq/1e3)\n",
    "plt.xlabel('Model Year')\n",
    "plt.ylabel('Grounding Line Position (km)')\n",
    "plt.title('Equilibrium Run, Grounding Line Position (L)')\n",
    "plt.axis('tight')\n",
    "\n",
    "plt.subplot(1,2,2)\n",
    "plt.plot(np.arange(nt_eq),h_eq/1e3)\n",
    "plt.xlabel('Model Year')\n",
    "plt.ylabel('Spatially-averaged Glacier Thickness (km)')\n",
    "plt.title('Equilibrium Run, Spatially-averaged Glacier Thickness (H)')\n",
    "plt.axis('tight')\n",
    "plt.show()"
   ]
  },
  {
   "cell_type": "markdown",
   "metadata": {},
   "source": [
    "# Model Run \"r1\": Retrograde Slope w/ Uncertainty in Mean Ocean Forcing ($\\eta$), Pink Shading in Robel et al. (2019) Fig. 2"
   ]
  },
  {
   "cell_type": "markdown",
   "metadata": {},
   "source": [
    "Define initial conditions stored from equilibrated model run..."
   ]
  },
  {
   "cell_type": "code",
   "execution_count": 14,
   "metadata": {},
   "outputs": [],
   "source": [
    "# take values from the final time point of the equilibrium model\n",
    "Q_g0 = Q_g\n",
    "xg0 = xg_eq[-1]\n",
    "h0 = h_eq[-1]\n",
    "hg0 = hg\n",
    "accum0 = accum\n",
    "omega0 = omega"
   ]
  },
  {
   "cell_type": "code",
   "execution_count": 15,
   "metadata": {},
   "outputs": [],
   "source": [
    "# update to slope parameters\n",
    "parameters['sill_max'] = xg0-10\n",
    "parameters['sill_min'] = -500e3\n",
    "parameters['sill_slope'] = 3.5e-3 # bx in Robel et al. 2019 (bed slope)\n",
    "parameters['icedivide'] = b0_orig-(parameters['sill_slope']-parameters['bedslope'])*(parameters['sill_max']-parameters['sill_min'])"
   ]
  },
  {
   "cell_type": "code",
   "execution_count": 16,
   "metadata": {},
   "outputs": [],
   "source": [
    "# define the number of years to the spin the model up\n",
    "spinup_time = 500-1 # years to spin up the model\n",
    "\n",
    "# define an accumulation during spin-up\n",
    "spinup_accum = 0.006 # [m/yr]\n",
    "\n",
    "# define standard deviation for the ocean-inducing melting (forcing) of the grounding line\n",
    "eta_std = 50"
   ]
  },
  {
   "cell_type": "markdown",
   "metadata": {},
   "source": [
    "Choose whether to run the analyses (ld_prev=0) or load the previously saved analyses (ld_prev=1)"
   ]
  },
  {
   "cell_type": "code",
   "execution_count": 17,
   "metadata": {},
   "outputs": [],
   "source": [
    "# load in the package to save/load\n",
    "import pickle\n",
    "# a name for the file we will save/load (copied from Alex's code)\n",
    "save_name_r1='Theorycomp_retro_uncertainmean.pk1'\n",
    "\n",
    "# if the user chooses \"ld_prev=0\", re-run the analyses\n",
    "if ld_prev==0:\n",
    "\n",
    "    # create an object to time the design creation\n",
    "    startTime = datetime.now()\n",
    "\n",
    "    # get the noise values with a standard deviation defined above\n",
    "    parameters['eta_noise'] = np.random.randn(n_ensemble)*eta_std\n",
    "\n",
    "    # define array for the model\n",
    "    xg_r1 = np.empty((n_ensemble,nt),dtype='float64') # Grounding line position\n",
    "    Qg_r1 = np.empty((n_ensemble,nt),dtype='float64') # Ice-flux across the grounding line\n",
    "    hg_r1 = np.empty((n_ensemble,nt),dtype='float64') # height at the grounding line\n",
    "\n",
    "    # loop over ensemble members \n",
    "    for j in range(n_ensemble):\n",
    "\n",
    "        # run each model iteration starting for the initial conditions\n",
    "        xg = xg0\n",
    "        hg = hg0\n",
    "        accum = accum0\n",
    "        omega = omega0\n",
    "        theta = theta0\n",
    "        Q_g = Q_g0\n",
    "        eta_noise = 0\n",
    "\n",
    "        xg_r1[j,0] = xg0\n",
    "        Qg_r1[j,0] = Q_g0\n",
    "        hg_r1[j,0] = hg0\n",
    "\n",
    "        # loop and run the model\n",
    "        for t in range(nt):\n",
    "\n",
    "            b = Base_New(xg,parameters)\n",
    "\n",
    "            # check to see if we are in the spin-up period\n",
    "            if (t > spinup_time) and (j<n_ensemble): # (I think skipping j==n_ensemble is a bug here? But I've left it)\n",
    "                eta_noise = parameters['eta_noise'][j]/np.sqrt(dt/year)\n",
    "\n",
    "            else:\n",
    "                accum = (accum0*year-spinup_accum*((t+1)/(spinup_time+1)))/year\n",
    "\n",
    "            theta = theta0\n",
    "            omega = ((A_glen*(rho_i*g)**(n+1) * (1-(rho_i/rho_w))**n / (4**n * C))**(1/(m+1))) * theta**(n/(m+1))\n",
    "\n",
    "            # calculate the change in model values and update\n",
    "            hg = -(rho_w/rho_i)*b   # grounding zone thickness\n",
    "            Q_g = omega*(hg**beta)\n",
    "            dxg_dt = (accum*xg - Q_g)/hg\n",
    "\n",
    "            xg = xg + dxg_dt*dt + eta_noise\n",
    "\n",
    "            # store the model values\n",
    "            xg_r1[j,t] = xg\n",
    "            Qg_r1[j,t] = Q_g\n",
    "            hg_r1[j,t] = hg\n",
    "\n",
    "        if (j % 100 == 0):\n",
    "            print(j)\n",
    "\n",
    "    # print the elapsed time to create the design\n",
    "    print('Time Elapsed = '+str(datetime.now() - startTime))\n",
    "\n",
    "    # store the training data\n",
    "    xg_dat={'xg_r1': xg_r1, 'hg_r1': hg_r1, 'Qg_r1': Qg_r1, 'eta_noise': eta_noise}\n",
    "\n",
    "    # save the data\n",
    "    pickle.dump(xg_dat, open( \"./\"+save_name_r1, \"wb\" ) )\n",
    "\n",
    "# else if ld_prev~=0, load the analyses\n",
    "else:\n",
    "    \n",
    "    # load the data\n",
    "    xg_dat=pickle.load(open( \"./\"+save_name_r1, \"rb\" ) )\n",
    "    xg_r1=xg_dat['xg_r1']\n",
    "    hg_r1=xg_dat['hg_r1']\n",
    "    eta_noise=xg_dat['eta_noise']"
   ]
  },
  {
   "cell_type": "markdown",
   "metadata": {},
   "source": [
    "### Plot the results"
   ]
  },
  {
   "cell_type": "code",
   "execution_count": 18,
   "metadata": {},
   "outputs": [],
   "source": [
    "# make an anomaly array\n",
    "xg_anom_r1=(xg_r1.T-xg_r1[:,spinup_time]).T"
   ]
  },
  {
   "cell_type": "code",
   "execution_count": 19,
   "metadata": {},
   "outputs": [],
   "source": [
    "# create the time grid to make plots\n",
    "time = np.arange(nt)+1-spinup_time-1\n",
    "q_want=[5,25,50,75,95]\n",
    "xg_quants = np.percentile(xg_anom_r1,q_want,axis=0)"
   ]
  },
  {
   "cell_type": "code",
   "execution_count": 20,
   "metadata": {
    "scrolled": true
   },
   "outputs": [
    {
     "data": {
      "image/png": "[encoded data removed]",
      "text/plain": [
       "<Figure size 432x288 with 1 Axes>"
      ]
     },
     "metadata": {},
     "output_type": "display_data"
    }
   ],
   "source": [
    "plt.figure()\n",
    "plt.plot(time,(xg_anom_r1[nens_ss,:].T)/1e3)\n",
    "plt.xlabel('Years (since spin-up)')\n",
    "plt.ylabel('Grounding Line Position (km) relative to spin-up')\n",
    "plt.title('Spread in Grounding Line Positions (Uncertain Mean $\\eta$)')\n",
    "plt.grid()\n",
    "plt.show()"
   ]
  },
  {
   "cell_type": "code",
   "execution_count": 21,
   "metadata": {},
   "outputs": [
    {
     "name": "stderr",
     "output_type": "stream",
     "text": [
      "/home/dmg370/.local/lib/python3.5/site-packages/matplotlib/figure.py:98: MatplotlibDeprecationWarning: \n",
      "Adding an axes using the same arguments as a previous axes currently reuses the earlier instance.  In a future version, a new instance will always be created and returned.  Meanwhile, this warning can be suppressed, and the future behavior ensured, by passing a unique label to each axes instance.\n",
      "  \"Adding an axes using the same arguments as a previous axes \"\n"
     ]
    },
    {
     "data": {
      "image/png": "[encoded data removed]",
      "text/plain": [
       "<Figure size 432x288 with 1 Axes>"
      ]
     },
     "metadata": {},
     "output_type": "display_data"
    }
   ],
   "source": [
    "plt.figure(figsize=(6,4))\n",
    "plt.grid()\n",
    "plt.plot(time,xg_quants[2,:]/1e3,c='k',label='Median',lw=2)\n",
    "\n",
    "ax = plt.subplot()\n",
    "ax.fill_between(time, \n",
    "                    y1=xg_quants[0,:]/1e3,\n",
    "                    y2=xg_quants[4,:]/1e3,\n",
    "                    alpha=0.3, facecolor='r',label='5-95th %')\n",
    "\n",
    "ax.fill_between(time, \n",
    "                    y1=xg_quants[1,:]/1e3,\n",
    "                    y2=xg_quants[3,:]/1e3,\n",
    "                    alpha=0.6, facecolor='r',label='25-75th %')\n",
    "\n",
    "plt.ylabel('Grounding Line Position (km) relative to spin-up')\n",
    "plt.title('Quantiles of Grounding Line Positions (Uncertain Mean $\\eta$)')\n",
    "plt.legend(loc='best')\n",
    "plt.show()"
   ]
  },
  {
   "cell_type": "markdown",
   "metadata": {},
   "source": [
    "## Compare w/ Prediction for \"r1\""
   ]
  },
  {
   "cell_type": "markdown",
   "metadata": {},
   "source": [
    "Now compare the results from the numerical model above with the analytical solutions."
   ]
  },
  {
   "cell_type": "code",
   "execution_count": 22,
   "metadata": {},
   "outputs": [],
   "source": [
    "check_i=-2"
   ]
  },
  {
   "cell_type": "code",
   "execution_count": 23,
   "metadata": {},
   "outputs": [
    {
     "name": "stderr",
     "output_type": "stream",
     "text": [
      "/home/dmg370/.local/lib/python3.5/site-packages/ipykernel_launcher.py:7: RuntimeWarning: invalid value encountered in sqrt\n",
      "  import sys\n"
     ]
    }
   ],
   "source": [
    "# fix the accumulation to calculate things\n",
    "accum=(accum0*year-spinup_accum*((t+1)/(spinup_time+1)))/year\n",
    "\n",
    "t_lin = np.linspace((-spinup_time-1)*year,(nt-spinup_time-1)*year,nt)\n",
    "\n",
    "c = float(lamda*parameters['sill_slope']*(accum*(hg0**(-2))*xg0 + (beta-1)*omega*hg0**(beta-2)) + accum/hg0)\n",
    "sigma_xg_lin = np.sqrt((1/(2*c))*(np.exp(2*c*t_lin)-1))*(eta_std/np.sqrt(year))\n",
    "\n",
    "ts_noise = np.linspace(0,(nt-spinup_time-1)*year,(nt-spinup_time-1))\n",
    "c_nl = lamda*parameters['sill_slope']*(accum*(hg_r1[check_i,:]**(-2))*xg_r1[check_i,:] + \\\n",
    "                                       (beta-1)*omega*hg_r1[check_i,:]**(beta-2)) + \\\n",
    "                                        (accum/hg_r1[check_i,:])"
   ]
  },
  {
   "cell_type": "code",
   "execution_count": 24,
   "metadata": {
    "scrolled": true
   },
   "outputs": [],
   "source": [
    "from scipy import integrate\n",
    "from scipy import stats\n",
    "I_nl = integrate.cumtrapz(c_nl[spinup_time+1:],ts_noise,initial=0)\n",
    "sigma_xg_nl = np.sqrt(np.exp(2*I_nl) * integrate.cumtrapz(np.exp(-2.*I_nl),ts_noise,initial=0))"
   ]
  },
  {
   "cell_type": "code",
   "execution_count": 25,
   "metadata": {
    "scrolled": true
   },
   "outputs": [
    {
     "name": "stderr",
     "output_type": "stream",
     "text": [
      "/home/dmg370/.local/lib/python3.5/site-packages/ipykernel_launcher.py:8: RuntimeWarning: invalid value encountered in true_divide\n",
      "  \n"
     ]
    }
   ],
   "source": [
    "d = (lamda*parameters['sill_slope']/hg0)**2 * (accum*(xg0/hg0) + \\\n",
    "                                               (accum/(lamda*parameters['sill_slope'])) - \\\n",
    "                                               0.5*(beta-1)*(beta-2)*omega*(hg0**(beta-1)))\n",
    "\n",
    "d_nl = (lamda*parameters['sill_slope']/hg_r1[check_i,:])**2 * (accum*(xg_r1[check_i,:]/hg_r1[check_i,:]) + \\\n",
    "                                               (accum/(lamda*parameters['sill_slope'])) - \\\n",
    "                                               0.5*(beta-1)*(beta-2)*omega*(hg_r1[check_i,:]**(beta-1)))\n",
    "\n",
    "S = np.exp(3*I_nl) * integrate.cumtrapz((sigma_xg_nl**4)*np.exp(-3*I_nl),ts_noise,initial=0)\n",
    "M = np.exp(I_nl) * integrate.cumtrapz((sigma_xg_nl**2)*np.exp(-I_nl),ts_noise,initial=0)\n",
    "\n",
    "skew_xg_nl  = 6*(M/(np.sqrt(np.exp(2*I_nl) \\\n",
    "                          * integrate.cumtrapz(np.exp(-2*I_nl),ts_noise,initial=0)))) \\\n",
    "                          * (eta_std/np.sqrt(year))*d_nl[spinup_time+1:].T"
   ]
  },
  {
   "cell_type": "code",
   "execution_count": 26,
   "metadata": {},
   "outputs": [],
   "source": [
    "# store the statistics\n",
    "stats_r1={'std':sigma_xg_nl, 'skew':skew_xg_nl}"
   ]
  },
  {
   "cell_type": "code",
   "execution_count": 27,
   "metadata": {},
   "outputs": [
    {
     "data": {
      "image/png": "[encoded data removed]",
      "text/plain": [
       "<Figure size 432x288 with 1 Axes>"
      ]
     },
     "metadata": {},
     "output_type": "display_data"
    }
   ],
   "source": [
    "plt.figure()\n",
    "#plt.plot(ts_noise/year,sigma_xg_nl*(eta_std/np.sqrt(year))/1e3,'o',label='Linear Prediction')\n",
    "plt.plot(time[spinup_time+1:],np.sqrt(stats.moment(xg_r1[:,spinup_time+1:].T/1e3,moment=2,axis=1,nan_policy='propagate')),'k',label='Numerical Model',lw=4)\n",
    "#plt.plot(ts_noise/year,(sigma_xg_nl*eta_std/np.sqrt(year))/1e3,'ro',markersize=5,label='Theory Prediction')\n",
    "\n",
    "plt.xlim([0,300])\n",
    "plt.ylim([0,100])\n",
    "plt.legend(loc='best')\n",
    "plt.grid()\n",
    "plt.show()"
   ]
  },
  {
   "cell_type": "markdown",
   "metadata": {},
   "source": [
    "# Model Run \"r2\": Retrograde Slope w/ Decadal Persistence ($\\tau_F=10 yr$) in Ocean Forcing ($\\eta$), Blue Shading in Robel et al. (2019) Fig. 2"
   ]
  },
  {
   "cell_type": "code",
   "execution_count": 28,
   "metadata": {},
   "outputs": [],
   "source": [
    "# update to slope parameters\n",
    "parameters['sill_max'] = xg0-10\n",
    "parameters['sill_min'] = -300e3\n",
    "parameters['sill_slope'] = 3.5e-3 # bx in Robel et al. 2019 (bed slope)\n",
    "parameters['icedivide'] = b0_orig-(parameters['sill_slope']-parameters['bedslope'])*(parameters['sill_max']-parameters['sill_min'])"
   ]
  },
  {
   "cell_type": "code",
   "execution_count": 29,
   "metadata": {},
   "outputs": [],
   "source": [
    "# define the number of years to the spin the model up\n",
    "spinup_time = 500-1 # years to spin up the model\n",
    "\n",
    "# define an accumulation during spin-up\n",
    "spinup_accum = 0.006 # [m/yr]\n",
    "\n",
    "# define standard deviation for the ocean-inducing melting (forcing) of the grounding line\n",
    "# this will be combined with an autocorrelated timeseries below\n",
    "eta_std = 100\n",
    "\n",
    "# define the de-correlation time scale, in years\n",
    "tau = 10 # [yr]"
   ]
  },
  {
   "cell_type": "code",
   "execution_count": null,
   "metadata": {
    "scrolled": true
   },
   "outputs": [],
   "source": [
    "# import the ARIMA code\n",
    "from statsmodels.tsa.arima_process import ArmaProcess"
   ]
  },
  {
   "cell_type": "code",
   "execution_count": null,
   "metadata": {},
   "outputs": [],
   "source": [
    "# load in the package to save/load\n",
    "import pickle\n",
    "# a name for the file we will save/load (copied from Alex's code)\n",
    "save_name_r2='Theorycomp_retro_persistvar.pk1'\n",
    "\n",
    "# if the user chooses \"ld_prev=0\", re-run the analyses\n",
    "if ld_prev==0:\n",
    "\n",
    "    # create an object to time the design creation\n",
    "    startTime = datetime.now()\n",
    "\n",
    "    # define array for the model\n",
    "    xg_r2 = np.empty((n_ensemble,nt),dtype='float64') # Grounding line position\n",
    "    Qg_r2 = np.empty((n_ensemble,nt),dtype='float64') # Ice-flux across the grounding line\n",
    "    hg_r2 = np.empty((n_ensemble,nt),dtype='float64') # height at the grounding line\n",
    "\n",
    "    # loop over ensemble members \n",
    "    for j in range(n_ensemble):\n",
    "\n",
    "        # run each model iteration starting for the initial conditions\n",
    "        xg = xg0\n",
    "        hg = hg0\n",
    "        accum = accum0\n",
    "        omega = omega0\n",
    "        theta = theta0\n",
    "        Q_g = Q_g0\n",
    "        \n",
    "        # get the autocorrelated noise values with a standard deviation \n",
    "        # and decorrelation time scale defined above\n",
    "\n",
    "        # see example for use at: https://campus.datacamp.com/courses/introduction-to-time-series-analysis-in-python/autoregressive-ar-models?ex=2\n",
    "        # create the AR(1) process with lag-zero correlation = 1.0, and lag-one correlation of 1-(1/tau)=0.9\n",
    "        ar = np.array([1, -(1-(1/tau))])\n",
    "        ma = np.array([ar[0]])\n",
    "        AR_object = ArmaProcess(ar, ma)\n",
    "        simulated_ts = AR_object.generate_sample(nsample=1000)\n",
    "\n",
    "        # scale the result (and plot if you want to compare with exogenous code)\n",
    "        parameters['eta_noise'] = simulated_ts*(eta_std/np.std(simulated_ts))\n",
    "#         plt.plot(parameters['eta_noise'])\n",
    "        \n",
    "        eta_noise = 0\n",
    "\n",
    "        xg_r2[j,0] = xg0\n",
    "        Qg_r2[j,0] = Q_g0\n",
    "        hg_r2[j,0] = hg0\n",
    "\n",
    "        # loop and run the model\n",
    "        for t in range(nt):\n",
    "\n",
    "            b = Base_New(xg,parameters)\n",
    "\n",
    "            # check to see if we are in the spin-up period\n",
    "            if (t > spinup_time):\n",
    "                eta_noise = parameters['eta_noise'][t]/np.sqrt(dt/year)\n",
    "\n",
    "            else:\n",
    "                accum = (accum0*year-spinup_accum*((t+1)/(spinup_time+1)))/year\n",
    "\n",
    "            theta = theta0\n",
    "            omega = ((A_glen*(rho_i*g)**(n+1) * (1-(rho_i/rho_w))**n / (4**n * C))**(1/(m+1))) * theta**(n/(m+1))\n",
    "\n",
    "            # calculate the change in model values and update\n",
    "            hg = -(rho_w/rho_i)*b   # grounding zone thickness\n",
    "            Q_g = omega*(hg**beta)\n",
    "            dxg_dt = (accum*xg - Q_g)/hg\n",
    "\n",
    "            xg = xg + dxg_dt*dt + eta_noise\n",
    "\n",
    "            # store the model values\n",
    "            xg_r2[j,t] = xg\n",
    "            Qg_r2[j,t] = Q_g\n",
    "            hg_r2[j,t] = hg\n",
    "\n",
    "        if (j % 100 == 0):\n",
    "            print(j)\n",
    "\n",
    "    # print the elapsed time to create the design\n",
    "    print('Time Elapsed = '+str(datetime.now() - startTime))\n",
    "\n",
    "    # store the training data\n",
    "    xg_dat={'xg_r2': xg_r2, 'hg_r2': hg_r2, 'Qg_r2': Qg_r2, 'eta_noise': eta_noise}\n",
    "\n",
    "    # save the data\n",
    "    pickle.dump(xg_dat, open( \"./\"+save_name_r2, \"wb\" ) )\n",
    "\n",
    "# else if ld_prev~=0, load the analyses\n",
    "else:\n",
    "    \n",
    "    # load the data\n",
    "    xg_dat=pickle.load(open( \"./\"+save_name_r2, \"rb\" ) )\n",
    "    xg_r2=xg_dat['xg_r2']\n",
    "    hg_r2=xg_dat['hg_r2']\n",
    "    eta_noise=xg_dat['eta_noise']"
   ]
  },
  {
   "cell_type": "markdown",
   "metadata": {},
   "source": [
    "### Plot the results"
   ]
  },
  {
   "cell_type": "code",
   "execution_count": null,
   "metadata": {},
   "outputs": [],
   "source": [
    "# make an anomaly array\n",
    "xg_anom_r2=(xg_r2.T-xg_r2[:,spinup_time]).T"
   ]
  },
  {
   "cell_type": "code",
   "execution_count": null,
   "metadata": {},
   "outputs": [],
   "source": [
    "# create the time grid to make plots\n",
    "xg_quants_r2 = np.percentile(xg_anom_r2,q_want,axis=0)"
   ]
  },
  {
   "cell_type": "code",
   "execution_count": null,
   "metadata": {},
   "outputs": [],
   "source": [
    "plt.figure()\n",
    "plt.plot(time,(xg_anom_r2[nens_ss,:].T)/1e3)\n",
    "plt.xlabel('Years (since spin-up)')\n",
    "plt.ylabel('Grounding Line Position (km) relative to spin-up')\n",
    "plt.title('Spread in Grounding Line Positions (Interdecadal Variability)')\n",
    "plt.grid()\n",
    "plt.show()"
   ]
  },
  {
   "cell_type": "code",
   "execution_count": null,
   "metadata": {},
   "outputs": [],
   "source": [
    "plt.figure(figsize=(6,4))\n",
    "plt.grid()\n",
    "plt.plot(time,xg_quants_r2[2,:]/1e3,c='k',label='Median',lw=2)\n",
    "\n",
    "ax = plt.subplot()\n",
    "ax.fill_between(time, \n",
    "                    y1=xg_quants_r2[0,:]/1e3,\n",
    "                    y2=xg_quants_r2[4,:]/1e3,\n",
    "                    alpha=0.3, facecolor='b',label='5-95th %')\n",
    "\n",
    "ax.fill_between(time, \n",
    "                    y1=xg_quants_r2[1,:]/1e3,\n",
    "                    y2=xg_quants_r2[3,:]/1e3,\n",
    "                    alpha=0.6, facecolor='b',label='25-75th %')\n",
    "\n",
    "plt.ylabel('Grounding Line Position (km) relative to spin-up')\n",
    "plt.title('Quantiles of Grounding Line Positions (Interdecadal Variability)')\n",
    "plt.legend(loc='best')\n",
    "plt.show()"
   ]
  },
  {
   "cell_type": "markdown",
   "metadata": {},
   "source": [
    "## Compare w/ Prediction for \"r2\""
   ]
  },
  {
   "cell_type": "code",
   "execution_count": null,
   "metadata": {},
   "outputs": [],
   "source": [
    "check_i=-1"
   ]
  },
  {
   "cell_type": "code",
   "execution_count": null,
   "metadata": {},
   "outputs": [],
   "source": [
    "# fix the accumulation to calculate things\n",
    "accum=accum0\n",
    "\n",
    "t_lin = np.linspace((-spinup_time-1)*year,(nt-spinup_time-1)*year,nt)\n",
    "\n",
    "c = float(lamda*parameters['sill_slope']*(accum*(hg0**(-2))*xg0 + (beta-1)*omega*hg0**(beta-2)) + accum/hg0)\n",
    "sigma_xg_lin = np.sqrt((1/(2*c))*(np.exp(2*c*t_lin)-1))*(eta_std/np.sqrt(year))\n",
    "\n",
    "ts_noise = np.linspace(0,(nt-spinup_time-1)*year,(nt-spinup_time-1))\n",
    "c_nl = lamda*parameters['sill_slope']*(accum*(hg_r2[check_i,:]**(-2))*xg_r2[check_i,:] + \\\n",
    "                                       (beta-1)*omega*hg_r2[check_i,:]**(beta-2)) + \\\n",
    "                                        (accum/hg_r2[check_i,:])"
   ]
  },
  {
   "cell_type": "code",
   "execution_count": null,
   "metadata": {},
   "outputs": [],
   "source": [
    "I_nl = integrate.cumtrapz(c_nl[spinup_time+1:],ts_noise,initial=0)\n",
    "sigma_xg_nl = np.sqrt(2*tau*year/dt - 1)*np.sqrt(np.exp(2*I_nl) * integrate.cumtrapz(np.exp(-2.*I_nl),ts_noise,initial=0))\n"
   ]
  },
  {
   "cell_type": "code",
   "execution_count": null,
   "metadata": {},
   "outputs": [],
   "source": [
    "d = (lamda*parameters['sill_slope']/hg0)**2 * (accum*(xg0/hg0) + \\\n",
    "                                               (accum/(lamda*parameters['sill_slope'])) - \\\n",
    "                                               0.5*(beta-1)*(beta-2)*omega*(hg0**(beta-1)))\n",
    "\n",
    "d_nl = (lamda*parameters['sill_slope']/hg_r2[check_i,:])**2 * (accum*(xg_r2[check_i,:]/hg_r2[check_i,:]) + \\\n",
    "                                               (accum/(lamda*parameters['sill_slope'])) - \\\n",
    "                                               0.5*(beta-1)*(beta-2)*omega*(hg_r2[check_i,:]**(beta-1)))\n",
    "\n",
    "S = np.exp(3*I_nl) * integrate.cumtrapz((sigma_xg_nl**4)*np.exp(-3*I_nl),ts_noise,initial=0)\n",
    "M = np.exp(I_nl) * integrate.cumtrapz((sigma_xg_nl**2)*np.exp(-I_nl),ts_noise,initial=0)\n",
    "\n",
    "skew_xg_nl  = 6*(M/(np.sqrt(np.exp(2*I_nl) \\\n",
    "                          * integrate.cumtrapz(np.exp(-2*I_nl),ts_noise,initial=0)))) \\\n",
    "                          * (eta_std/np.sqrt(year))*d_nl[spinup_time+1:].T"
   ]
  },
  {
   "cell_type": "code",
   "execution_count": null,
   "metadata": {},
   "outputs": [],
   "source": [
    "# store the statistics\n",
    "stats_r2={'std':sigma_xg_nl, 'skew':skew_xg_nl}"
   ]
  },
  {
   "cell_type": "code",
   "execution_count": null,
   "metadata": {},
   "outputs": [],
   "source": [
    "plt.figure()\n",
    "#plt.plot(ts_noise/year,sigma_xg_nl*(eta_std/np.sqrt(year))/1e3,'o',label='Linear Prediction')\n",
    "plt.plot(time[spinup_time+1:],np.sqrt(stats.moment(xg_r2[:,spinup_time+1:].T/1e3,moment=2,axis=1,nan_policy='propagate')),'k--',label='Numerical Model',lw=4)\n",
    "plt.plot(ts_noise/year,(sigma_xg_nl*eta_std/np.sqrt(year))/1e3,'bo',markersize=5,label='Theory Prediction')\n",
    "plt.xlim([0,300])\n",
    "plt.ylim([0,100])\n",
    "plt.legend(loc='best')\n",
    "plt.grid()\n",
    "plt.show()"
   ]
  },
  {
   "cell_type": "markdown",
   "metadata": {},
   "source": [
    "# Model Run \"r3\": Retrograde Slope w/ Interannual Variability (year-to-year gaussian) in Ocean Forcing ($\\eta$), Orange Shading in Robel et al. (2019) Fig. 2"
   ]
  },
  {
   "cell_type": "code",
   "execution_count": null,
   "metadata": {},
   "outputs": [],
   "source": [
    "# update to slope parameters\n",
    "parameters['sill_max'] = xg0-10\n",
    "parameters['sill_min'] = 0\n",
    "parameters['sill_slope'] = 3.5e-3 # bx in Robel et al. 2019 (bed slope)\n",
    "parameters['icedivide'] = b0_orig-(parameters['sill_slope']-parameters['bedslope'])*(parameters['sill_max']-parameters['sill_min'])"
   ]
  },
  {
   "cell_type": "code",
   "execution_count": null,
   "metadata": {},
   "outputs": [],
   "source": [
    "# define the number of years to the spin the model up\n",
    "spinup_time = 500-1 # years to spin up the model\n",
    "\n",
    "# define an accumulation during spin-up\n",
    "spinup_accum = 0.006 # [m/yr]\n",
    "\n",
    "# define standard deviation for the ocean-inducing melting (forcing) of the grounding line\n",
    "# this is now a white-noise which is applied to the timeseries\n",
    "eta_std = 100"
   ]
  },
  {
   "cell_type": "code",
   "execution_count": null,
   "metadata": {},
   "outputs": [],
   "source": [
    "# load in the package to save/load\n",
    "import pickle\n",
    "# a name for the file we will save/load (copied from Alex's code)\n",
    "save_name_r3='Theorycomp_retro_whitevar.pk1'\n",
    "\n",
    "# if the user chooses \"ld_prev=0\", re-run the analyses\n",
    "if ld_prev==0:\n",
    "\n",
    "    # create an object to time the design creation\n",
    "    startTime = datetime.now()\n",
    "\n",
    "    # define array for the model\n",
    "    xg_r3 = np.empty((n_ensemble,nt),dtype='float64') # Grounding line position\n",
    "    Qg_r3 = np.empty((n_ensemble,nt),dtype='float64') # Ice-flux across the grounding line\n",
    "    hg_r3 = np.empty((n_ensemble,nt),dtype='float64') # height at the grounding line\n",
    "\n",
    "    # loop over ensemble members \n",
    "    for j in range(n_ensemble):\n",
    "\n",
    "        # run each model iteration starting for the initial conditions\n",
    "        xg = xg0\n",
    "        hg = hg0\n",
    "        accum = accum0\n",
    "        omega = omega0\n",
    "        theta = theta0\n",
    "        Q_g = Q_g0\n",
    "        \n",
    "        # create the noise timeseries as a Gaussian noise with no auto-correlation\n",
    "        parameters['eta_noise'] = np.random.randn(nt)*eta_std\n",
    "        eta_noise = 0\n",
    "\n",
    "        xg_r3[j,0] = xg0\n",
    "        Qg_r3[j,0] = Q_g0\n",
    "        hg_r3[j,0] = hg0\n",
    "\n",
    "        # loop and run the model\n",
    "        for t in range(nt):\n",
    "\n",
    "            b = Base_New(xg,parameters)\n",
    "\n",
    "            # check to see if we are in the spin-up period\n",
    "            if (t > spinup_time):\n",
    "                eta_noise = parameters['eta_noise'][t]/np.sqrt(dt/year)\n",
    "\n",
    "            else:\n",
    "                accum = (accum0*year-spinup_accum*((t+1)/(spinup_time+1)))/year\n",
    "\n",
    "            theta = theta0\n",
    "            omega = ((A_glen*(rho_i*g)**(n+1) * (1-(rho_i/rho_w))**n / (4**n * C))**(1/(m+1))) * theta**(n/(m+1))\n",
    "\n",
    "            # calculate the change in model values and update\n",
    "            hg = -(rho_w/rho_i)*b   # grounding zone thickness\n",
    "            Q_g = omega*(hg**beta)\n",
    "            dxg_dt = (accum*xg - Q_g)/hg\n",
    "\n",
    "            xg = xg + dxg_dt*dt + eta_noise\n",
    "\n",
    "            # store the model values\n",
    "            xg_r3[j,t] = xg\n",
    "            Qg_r3[j,t] = Q_g\n",
    "            hg_r3[j,t] = hg\n",
    "\n",
    "        if (j % 100 == 0):\n",
    "            print(j)\n",
    "\n",
    "    # print the elapsed time to create the design\n",
    "    print('Time Elapsed = '+str(datetime.now() - startTime))\n",
    "\n",
    "    # store the training data\n",
    "    xg_dat={'xg_r3': xg_r3, 'hg_r3': hg_r3, 'Qg_r3': Qg_r3, 'eta_noise': eta_noise}\n",
    "\n",
    "    # save the data\n",
    "    pickle.dump(xg_dat, open( \"./\"+save_name_r3, \"wb\" ) )\n",
    "\n",
    "# else if ld_prev~=0, load the analyses\n",
    "else:\n",
    "    \n",
    "    # load the data\n",
    "    xg_dat=pickle.load(open( \"./\"+save_name_r3, \"rb\" ) )\n",
    "    xg_r3=xg_dat['xg_r3']\n",
    "    hg_r3=xg_dat['hg_r3']\n",
    "    eta_noise=xg_dat['eta_noise']"
   ]
  },
  {
   "cell_type": "code",
   "execution_count": null,
   "metadata": {},
   "outputs": [],
   "source": [
    "# make an anomaly array\n",
    "xg_anom_r3=(xg_r3.T-xg_r3[:,spinup_time]).T"
   ]
  },
  {
   "cell_type": "code",
   "execution_count": null,
   "metadata": {},
   "outputs": [],
   "source": [
    "# create the time grid to make plots\n",
    "xg_quants_r3 = np.percentile(xg_anom_r3,q_want,axis=0)"
   ]
  },
  {
   "cell_type": "code",
   "execution_count": null,
   "metadata": {},
   "outputs": [],
   "source": [
    "plt.figure()\n",
    "plt.plot(time,(xg_anom_r3[nens_ss,:].T)/1e3)\n",
    "plt.xlabel('Years (since spin-up)')\n",
    "plt.ylabel('Grounding Line Position (km) relative to spin-up')\n",
    "plt.title('Spread in Grounding Line Positions (Interannual Variability)')\n",
    "plt.grid()\n",
    "plt.show()"
   ]
  },
  {
   "cell_type": "code",
   "execution_count": null,
   "metadata": {},
   "outputs": [],
   "source": [
    "plt.figure(figsize=(6,4))\n",
    "plt.grid()\n",
    "plt.plot(time,xg_quants_r3[2,:]/1e3,c='k',label='Median',lw=2)\n",
    "\n",
    "ax = plt.subplot()\n",
    "ax.fill_between(time, \n",
    "                    y1=xg_quants_r3[0,:]/1e3,\n",
    "                    y2=xg_quants_r3[4,:]/1e3,\n",
    "                    alpha=0.3, facecolor='orange',label='5-95th %')\n",
    "\n",
    "ax.fill_between(time, \n",
    "                    y1=xg_quants_r3[1,:]/1e3,\n",
    "                    y2=xg_quants_r3[3,:]/1e3,\n",
    "                    alpha=0.6, facecolor='orange',label='25-75th %')\n",
    "\n",
    "plt.ylabel('Grounding Line Position (km) relative to spin-up')\n",
    "plt.title('Quantiles of Grounding Line Positions (Interannual Variability)')\n",
    "plt.legend(loc='best')\n",
    "plt.show()"
   ]
  },
  {
   "cell_type": "markdown",
   "metadata": {},
   "source": [
    "## Compare w/ Prediction for \"r3\""
   ]
  },
  {
   "cell_type": "code",
   "execution_count": null,
   "metadata": {},
   "outputs": [],
   "source": [
    "check_i=-1"
   ]
  },
  {
   "cell_type": "code",
   "execution_count": null,
   "metadata": {},
   "outputs": [],
   "source": [
    "# fix the accumulation to calculate things\n",
    "accum=accum0\n",
    "\n",
    "t_lin = np.linspace((-spinup_time-1)*year,(nt-spinup_time-1)*year,nt)\n",
    "\n",
    "c = float(lamda*parameters['sill_slope']*(accum*(hg0**(-2))*xg0 + (beta-1)*omega*hg0**(beta-2)) + accum/hg0)\n",
    "sigma_xg_lin = np.sqrt((1/(2*c))*(np.exp(2*c*t_lin)-1))*(eta_std/np.sqrt(year))\n",
    "\n",
    "ts_noise = np.linspace(0,(nt-spinup_time-1)*year,(nt-spinup_time-1))\n",
    "c_nl = lamda*parameters['sill_slope']*(accum*(hg_r3[check_i,:]**(-2))*xg_r3[check_i,:] + \\\n",
    "                                       (beta-1)*omega*hg_r3[check_i,:]**(beta-2)) + \\\n",
    "                                        (accum/hg_r3[check_i,:])"
   ]
  },
  {
   "cell_type": "code",
   "execution_count": null,
   "metadata": {},
   "outputs": [],
   "source": [
    "I_nl = integrate.cumtrapz(c_nl[spinup_time+1:],ts_noise,initial=0)\n",
    "sigma_xg_nl = np.sqrt(np.exp(2*I_nl) * integrate.cumtrapz(np.exp(-2.*I_nl),ts_noise,initial=0))"
   ]
  },
  {
   "cell_type": "code",
   "execution_count": null,
   "metadata": {},
   "outputs": [],
   "source": [
    "d = (lamda*parameters['sill_slope']/hg0)**2 * (accum*(xg0/hg0) + \\\n",
    "                                               (accum/(lamda*parameters['sill_slope'])) - \\\n",
    "                                               0.5*(beta-1)*(beta-2)*omega*(hg0**(beta-1)))\n",
    "\n",
    "d_nl = (lamda*parameters['sill_slope']/hg_r3[check_i,:])**2 * (accum*(xg_r3[check_i,:]/hg_r3[check_i,:]) + \\\n",
    "                                               (accum/(lamda*parameters['sill_slope'])) - \\\n",
    "                                               0.5*(beta-1)*(beta-2)*omega*(hg_r3[check_i,:]**(beta-1)))\n",
    "\n",
    "S = np.exp(3*I_nl) * integrate.cumtrapz((sigma_xg_nl**4)*np.exp(-3*I_nl),ts_noise,initial=0)\n",
    "M = np.exp(I_nl) * integrate.cumtrapz((sigma_xg_nl**2)*np.exp(-I_nl),ts_noise,initial=0)\n",
    "\n",
    "skew_xg_nl  = 6*(M/(np.sqrt(np.exp(2*I_nl) \\\n",
    "                          * integrate.cumtrapz(np.exp(-2*I_nl),ts_noise,initial=0)))) \\\n",
    "                          * (eta_std/np.sqrt(year))*d_nl[spinup_time+1:].T"
   ]
  },
  {
   "cell_type": "code",
   "execution_count": null,
   "metadata": {},
   "outputs": [],
   "source": [
    "# store the statistics\n",
    "stats_r3={'std':sigma_xg_nl, 'skew':skew_xg_nl}"
   ]
  },
  {
   "cell_type": "code",
   "execution_count": null,
   "metadata": {},
   "outputs": [],
   "source": [
    "plt.figure()\n",
    "#plt.plot(ts_noise/year,sigma_xg_nl*(eta_std/np.sqrt(year))/1e3,'o',label='Linear Prediction')\n",
    "plt.plot(time[spinup_time+1:],np.sqrt(stats.moment(xg_r3[:,spinup_time+1:].T/1e3,moment=2,axis=1,nan_policy='propagate')),'k--',label='Numerical Model',lw=4)\n",
    "plt.plot(ts_noise/year,(sigma_xg_nl*eta_std/np.sqrt(year))/1e3,'o',color='orange',markersize=5,label='Theory Prediction')\n",
    "plt.xlim([0,300])\n",
    "plt.ylim([0,20])\n",
    "plt.legend(loc='best')\n",
    "plt.grid()\n",
    "plt.show()"
   ]
  },
  {
   "cell_type": "markdown",
   "metadata": {},
   "source": [
    "# Model Run \"r4\": Forward Bed (Prograde) Slope w/ Interannual Variability (year-to-year gaussian) in Ocean Forcing ($\\eta$), Green Shading in Robel et al. (2019) Fig. 2"
   ]
  },
  {
   "cell_type": "code",
   "execution_count": null,
   "metadata": {},
   "outputs": [],
   "source": [
    "# update to slope parameters\n",
    "parameters['sill_max'] = xg0+100e3\n",
    "parameters['sill_min'] = xg0+99e3\n",
    "parameters['sill_slope'] = -1e-3 # bx in Robel et al. 2019 (bed slope)\n",
    "parameters['icedivide'] = b0_orig-(parameters['sill_slope']-parameters['bedslope'])*(parameters['sill_max']-parameters['sill_min'])"
   ]
  },
  {
   "cell_type": "code",
   "execution_count": null,
   "metadata": {},
   "outputs": [],
   "source": [
    "# define the number of years to the spin the model up\n",
    "spinup_time = 500-1 # years to spin up the model\n",
    "\n",
    "# define an accumulation during spin-up\n",
    "spinup_accum = 0.006 # [m/yr]\n",
    "\n",
    "# define standard deviation for the ocean-inducing melting (forcing) of the grounding line\n",
    "# this is now a white-noise which is applied to the timeseries\n",
    "eta_std = 100"
   ]
  },
  {
   "cell_type": "code",
   "execution_count": null,
   "metadata": {},
   "outputs": [],
   "source": [
    "# load in the package to save/load\n",
    "import pickle\n",
    "# a name for the file we will save/load (copied from Alex's code)\n",
    "save_name_r4='Theorycomp_pro_whitevar.pk1'\n",
    "\n",
    "# if the user chooses \"ld_prev=0\", re-run the analyses\n",
    "if ld_prev==0:\n",
    "\n",
    "    # create an object to time the design creation\n",
    "    startTime = datetime.now()\n",
    "\n",
    "    # define array for the model\n",
    "    xg_r4 = np.empty((n_ensemble,nt),dtype='float64') # Grounding line position\n",
    "    Qg_r4 = np.empty((n_ensemble,nt),dtype='float64') # Ice-flux across the grounding line\n",
    "    hg_r4 = np.empty((n_ensemble,nt),dtype='float64') # height at the grounding line\n",
    "\n",
    "    # loop over ensemble members \n",
    "    for j in range(n_ensemble):\n",
    "\n",
    "        # run each model iteration starting for the initial conditions\n",
    "        xg = xg0\n",
    "        hg = hg0\n",
    "        accum = accum0\n",
    "        omega = omega0\n",
    "        theta = theta0\n",
    "        Q_g = Q_g0\n",
    "        \n",
    "        # create the noise timeseries as a Gaussian noise with no auto-correlation\n",
    "        parameters['eta_noise'] = np.random.randn(nt)*eta_std\n",
    "        eta_noise = 0\n",
    "\n",
    "        xg_r4[j,0] = xg0\n",
    "        Qg_r4[j,0] = Q_g0\n",
    "        hg_r4[j,0] = hg0\n",
    "\n",
    "        # loop and run the model\n",
    "        for t in range(nt):\n",
    "\n",
    "            b = Base_New(xg,parameters)\n",
    "\n",
    "            # check to see if we are in the spin-up period\n",
    "            if (t > spinup_time):\n",
    "                eta_noise = parameters['eta_noise'][t]/np.sqrt(dt/year)\n",
    "\n",
    "            else:\n",
    "                accum = (accum0*year-spinup_accum*((t+1)/(spinup_time+1)))/year\n",
    "\n",
    "            theta = theta0\n",
    "            omega = ((A_glen*(rho_i*g)**(n+1) * (1-(rho_i/rho_w))**n / (4**n * C))**(1/(m+1))) * theta**(n/(m+1))\n",
    "\n",
    "            # calculate the change in model values and update\n",
    "            hg = -(rho_w/rho_i)*b   # grounding zone thickness\n",
    "            Q_g = omega*(hg**beta)\n",
    "            dxg_dt = (accum*xg - Q_g)/hg\n",
    "\n",
    "            xg = xg + dxg_dt*dt + eta_noise\n",
    "\n",
    "            # store the model values\n",
    "            xg_r4[j,t] = xg\n",
    "            Qg_r4[j,t] = Q_g\n",
    "            hg_r4[j,t] = hg\n",
    "\n",
    "        if (j % 100 == 0):\n",
    "            print(j)\n",
    "\n",
    "    # print the elapsed time to create the design\n",
    "    print('Time Elapsed = '+str(datetime.now() - startTime))\n",
    "\n",
    "    # store the training data\n",
    "    xg_dat={'xg_r4': xg_r4, 'hg_r4': hg_r4, 'Qg_r4': Qg_r4, 'eta_noise': eta_noise}\n",
    "\n",
    "    # save the data\n",
    "    pickle.dump(xg_dat, open( \"./\"+save_name_r4, \"wb\" ) )\n",
    "\n",
    "# else if ld_prev~=0, load the analyses\n",
    "else:\n",
    "    \n",
    "    # load the data\n",
    "    xg_dat=pickle.load(open( \"./\"+save_name_r4, \"rb\" ) )\n",
    "    xg_r4=xg_dat['xg_r4']\n",
    "    hg_r4=xg_dat['hg_r4']\n",
    "    eta_noise=xg_dat['eta_noise']"
   ]
  },
  {
   "cell_type": "code",
   "execution_count": null,
   "metadata": {},
   "outputs": [],
   "source": [
    "# make an anomaly array\n",
    "xg_anom_r4=(xg_r4.T-xg_r4[:,spinup_time]).T"
   ]
  },
  {
   "cell_type": "code",
   "execution_count": null,
   "metadata": {},
   "outputs": [],
   "source": [
    "# create the time grid to make plots\n",
    "xg_quants_r4 = np.percentile(xg_anom_r4,q_want,axis=0)"
   ]
  },
  {
   "cell_type": "code",
   "execution_count": null,
   "metadata": {},
   "outputs": [],
   "source": [
    "plt.figure()\n",
    "plt.plot(time,(xg_anom_r4[nens_ss,:].T)/1e3)\n",
    "plt.xlabel('Years (since spin-up)')\n",
    "plt.ylabel('Grounding Line Position (km) relative to spin-up')\n",
    "plt.title('Spread in Grounding Line Positions (Prograde Slope, Interannual Variability)')\n",
    "plt.grid()\n",
    "plt.show()"
   ]
  },
  {
   "cell_type": "code",
   "execution_count": null,
   "metadata": {},
   "outputs": [],
   "source": [
    "plt.figure(figsize=(6,4))\n",
    "plt.grid()\n",
    "plt.plot(time,xg_quants_r4[2,:]/1e3,c='k',label='Median',lw=2)\n",
    "\n",
    "ax = plt.subplot()\n",
    "ax.fill_between(time, \n",
    "                    y1=xg_quants_r4[0,:]/1e3,\n",
    "                    y2=xg_quants_r4[4,:]/1e3,\n",
    "                    alpha=0.3, facecolor='g',label='5-95th %')\n",
    "\n",
    "ax.fill_between(time, \n",
    "                    y1=xg_quants_r4[1,:]/1e3,\n",
    "                    y2=xg_quants_r4[3,:]/1e3,\n",
    "                    alpha=0.6, facecolor='g',label='25-75th %')\n",
    "\n",
    "plt.ylabel('Grounding Line Position (km) relative to spin-up')\n",
    "plt.title('Quantiles of Grounding Line Positions (Prograde Slope, Interannual Variability)')\n",
    "plt.legend(loc='best')\n",
    "plt.show()"
   ]
  },
  {
   "cell_type": "markdown",
   "metadata": {},
   "source": [
    "## Compare w/ Prediction for \"r4\""
   ]
  },
  {
   "cell_type": "code",
   "execution_count": null,
   "metadata": {},
   "outputs": [],
   "source": [
    "check_i=-1"
   ]
  },
  {
   "cell_type": "code",
   "execution_count": null,
   "metadata": {},
   "outputs": [],
   "source": [
    "# fix the accumulation to calculate things\n",
    "accum=accum0\n",
    "\n",
    "t_lin = np.linspace((-spinup_time-1)*year,(nt-spinup_time-1)*year,nt)\n",
    "\n",
    "c = float(lamda*parameters['sill_slope']*(accum*(hg0**(-2))*xg0 + (beta-1)*omega*hg0**(beta-2)) + accum/hg0)\n",
    "sigma_xg_lin = np.sqrt((1/(2*c))*(np.exp(2*c*t_lin)-1))*(eta_std/np.sqrt(year))\n",
    "\n",
    "ts_noise = np.linspace(0,(nt-spinup_time-1)*year,(nt-spinup_time-1))\n",
    "c_nl = lamda*parameters['sill_slope']*(accum*(hg_r4[check_i,:]**(-2))*xg_r4[check_i,:] + \\\n",
    "                                       (beta-1)*omega*hg_r4[check_i,:]**(beta-2)) + \\\n",
    "                                        (accum/hg_r4[check_i,:])"
   ]
  },
  {
   "cell_type": "code",
   "execution_count": null,
   "metadata": {},
   "outputs": [],
   "source": [
    "I_nl = integrate.cumtrapz(c_nl[spinup_time+1:],ts_noise,initial=0)\n",
    "sigma_xg_nl = np.sqrt(np.exp(2*I_nl) * integrate.cumtrapz(np.exp(-2.*I_nl),ts_noise,initial=0))"
   ]
  },
  {
   "cell_type": "code",
   "execution_count": null,
   "metadata": {},
   "outputs": [],
   "source": [
    "d = (lamda*parameters['sill_slope']/hg0)**2 * (accum*(xg0/hg0) + \\\n",
    "                                               (accum/(lamda*parameters['sill_slope'])) - \\\n",
    "                                               0.5*(beta-1)*(beta-2)*omega*(hg0**(beta-1)))\n",
    "\n",
    "d_nl = (lamda*parameters['sill_slope']/hg_r4[check_i,:])**2 * (accum*(xg_r4[check_i,:]/hg_r4[check_i,:]) + \\\n",
    "                                               (accum/(lamda*parameters['sill_slope'])) - \\\n",
    "                                               0.5*(beta-1)*(beta-2)*omega*(hg_r4[check_i,:]**(beta-1)))\n",
    "\n",
    "S = np.exp(3*I_nl) * integrate.cumtrapz((sigma_xg_nl**4)*np.exp(-3*I_nl),ts_noise,initial=0)\n",
    "M = np.exp(I_nl) * integrate.cumtrapz((sigma_xg_nl**2)*np.exp(-I_nl),ts_noise,initial=0)\n",
    "\n",
    "skew_xg_nl  = 6*(M/(np.sqrt(np.exp(2*I_nl) \\\n",
    "                          * integrate.cumtrapz(np.exp(-2*I_nl),ts_noise,initial=0)))) \\\n",
    "                          * (eta_std/np.sqrt(year))*d_nl[spinup_time+1:].T"
   ]
  },
  {
   "cell_type": "code",
   "execution_count": null,
   "metadata": {},
   "outputs": [],
   "source": [
    "# store the statistics\n",
    "stats_r4={'std':sigma_xg_nl, 'skew':skew_xg_nl}"
   ]
  },
  {
   "cell_type": "code",
   "execution_count": null,
   "metadata": {},
   "outputs": [],
   "source": [
    "plt.figure()\n",
    "#plt.plot(ts_noise/year,sigma_xg_nl*(eta_std/np.sqrt(year))/1e3,'o',label='Linear Prediction')\n",
    "plt.plot(time[spinup_time+1:],np.sqrt(stats.moment(xg_r4[:,spinup_time+1:].T/1e3,moment=2,axis=1,nan_policy='propagate')),'k--',label='Numerical Model',lw=4)\n",
    "plt.plot(ts_noise/year,(sigma_xg_nl*eta_std/np.sqrt(year))/1e3,'go',markersize=5,label='Theory Prediction')\n",
    "plt.xlim([0,300])\n",
    "plt.ylim([0,20])\n",
    "plt.legend(loc='best')\n",
    "plt.grid()\n",
    "plt.show()"
   ]
  },
  {
   "cell_type": "markdown",
   "metadata": {},
   "source": [
    "# Show Results Combined (Robel et al. 2019, Figure 2)"
   ]
  },
  {
   "cell_type": "code",
   "execution_count": null,
   "metadata": {},
   "outputs": [],
   "source": [
    "time[0::49].shape"
   ]
  },
  {
   "cell_type": "code",
   "execution_count": null,
   "metadata": {},
   "outputs": [],
   "source": [
    "stats_r1['std'][0::49].shape"
   ]
  },
  {
   "cell_type": "code",
   "execution_count": null,
   "metadata": {},
   "outputs": [],
   "source": [
    "robel_fig2, (ax1, ax2, ax3) = plt.subplots(3, 1, sharex=True, figsize=(10,12))\n",
    "plt.xlim([0,300])\n",
    "plt.xlabel('Time (Years)')\n",
    "\n",
    "ax1.plot(time,xg_quants[2,:],c='white')\n",
    "ax1.grid()\n",
    "ax1.fill_between(time, xg_quants[1,:]/1e3, xg_quants[3,:]/1e3, color='plum', label='Reverse bed, uncertain mean')\n",
    "ax1.fill_between(time, xg_quants_r2[1,:]/1e3, xg_quants_r2[3,:]/1e3, color='royalblue', label='Reverse bed, interdecal var.')\n",
    "ax1.fill_between(time, xg_quants_r3[1,:]/1e3, xg_quants_r3[3,:]/1e3, color='orange', label='Reverse bed, interannual var.')\n",
    "ax1.fill_between(time, xg_quants_r4[1,:]/1e3, xg_quants_r4[3,:]/1e3, color='g', label='Forward bed, interannual var.')\n",
    "ax1.set_ylim(-60,20)\n",
    "ax1.legend(loc='lower left')\n",
    "ax1.set_ylabel('25-75%ile Projection Range (km)')\n",
    "\n",
    "ax2.grid()\n",
    "ax2.plot(time,np.sqrt(stats.moment(xg_r1.T/1e3,moment=2,axis=1,nan_policy='propagate')),color='plum',label='Reverse bed, uncertain mean',lw=3)\n",
    "ax2.plot(time,np.sqrt(stats.moment(xg_r2.T/1e3,moment=2,axis=1,nan_policy='propagate')),color='royalblue',label='Reverse bed, interdecal var.',lw=3)\n",
    "ax2.plot(time,np.sqrt(stats.moment(xg_r3.T/1e3,moment=2,axis=1,nan_policy='propagate')),color='orange',label='Reverse bed, interannual var.',lw=3)\n",
    "ax2.plot(time,np.sqrt(stats.moment(xg_r4.T/1e3,moment=2,axis=1,nan_policy='propagate')),color='g', label='Forward bed, interannual var.',lw=3)\n",
    "ax2.scatter(time[10*49::49],(stats_r1['std'][0::49]*50/np.sqrt(year))/1e3,color='plum',s=100,facecolors='none',lw=3)\n",
    "ax2.scatter(time[10*49::49],(stats_r2['std'][0::49]*100/np.sqrt(year))/1e3,color='royalblue',s=100,facecolors='none',lw=3)\n",
    "ax2.scatter(time[10*49::49],(stats_r3['std'][0::49]*100/np.sqrt(year))/1e3,color='orange',s=100,facecolors='none',lw=3)\n",
    "ax2.scatter(time[10*49::49],(stats_r4['std'][0::49]*100/np.sqrt(year))/1e3,color='g',s=100,facecolors='none',lw=3)\n",
    "ax2.set_ylim(-10,80)\n",
    "ax2.set_ylabel('Uncertainty $\\sigma_L$ (km)')\n",
    "\n",
    "ax3.grid()\n",
    "ax3.plot(time,stats.moment(xg_r1.T/1e3,moment=3,axis=1,nan_policy='propagate'),color='plum',label='Reverse bed, uncertain mean',lw=3)\n",
    "ax3.plot(time,stats.moment(xg_r2.T/1e3,moment=3,axis=1,nan_policy='propagate'),color='royalblue',label='Reverse bed, interdecal var.',lw=3)\n",
    "ax3.plot(time,stats.moment(xg_r3.T/1e3,moment=3,axis=1,nan_policy='propagate'),color='orange',label='Reverse bed, interannual var.',lw=3)\n",
    "ax3.plot(time,stats.moment(xg_r4.T/1e3,moment=3,axis=1,nan_policy='propagate'),color='g', label='Forward bed, interannual var.',lw=3)\n",
    "ax3.scatter(time[10*49::49],stats_r1['skew'][0::49],color='plum',s=100,facecolors='none',lw=3)\n",
    "ax3.scatter(time[10*49::49],stats_r2['skew'][0::49],color='royalblue',s=100,facecolors='none',lw=3)\n",
    "ax3.scatter(time[10*49::49],stats_r3['skew'][0::49],color='orange',s=100,facecolors='none',lw=3)\n",
    "ax3.scatter(time[10*49::49],stats_r4['skew'][0::49],color='g',s=100,facecolors='none',lw=3)\n",
    "ax3.set_ylim(-2,1)\n",
    "ax3.set_ylabel('Skewness')\n",
    "\n",
    "plt.show()"
   ]
  },
  {
   "cell_type": "code",
   "execution_count": null,
   "metadata": {},
   "outputs": [],
   "source": []
  }
 ],
 "metadata": {
  "kernelspec": {
   "display_name": "Python 3",
   "language": "python",
   "name": "python3"
  },
  "language_info": {
   "codemirror_mode": {
    "name": "ipython",
    "version": 3
   },
   "file_extension": ".py",
   "mimetype": "text/x-python",
   "name": "python",
   "nbconvert_exporter": "python",
   "pygments_lexer": "ipython3",
   "version": "3.5.2"
  }
 },
 "nbformat": 4,
 "nbformat_minor": 2
}
